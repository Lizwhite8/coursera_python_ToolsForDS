{
  "nbformat": 4,
  "nbformat_minor": 0,
  "metadata": {
    "colab": {
      "provenance": []
    },
    "kernelspec": {
      "name": "python3",
      "display_name": "Python 3"
    },
    "language_info": {
      "name": "python"
    }
  },
  "cells": [
    {
      "cell_type": "markdown",
      "source": [
        "**Exercise 2 - Create a markdown cell with the title of the notebook. (1 pt)**"
      ],
      "metadata": {
        "id": "Bape9_blGRuR"
      }
    },
    {
      "cell_type": "markdown",
      "source": [
        "Module_6_final_assignment_exercises"
      ],
      "metadata": {
        "id": "GcvklZS-GY26"
      }
    },
    {
      "cell_type": "markdown",
      "source": [
        "**Exercise 3 - Create a markdown cell for an introduction. (1 pt)**"
      ],
      "metadata": {
        "id": "ykNQlDaBGhdy"
      }
    },
    {
      "cell_type": "markdown",
      "source": [
        "This contains my answers to all 13 exercises for the final assignment of Module 6 of this course."
      ],
      "metadata": {
        "id": "msqUH35tGiJB"
      }
    },
    {
      "cell_type": "markdown",
      "source": [
        "**Exercise 4 - Create a markdown cell to list data science languages. (3 pts)**"
      ],
      "metadata": {
        "id": "CplBz3sbG2vs"
      }
    },
    {
      "cell_type": "markdown",
      "source": [
        "Here are some data science languages: Python, R, SQL, Java, Julia, Scala, C/C++, JavaScript, Swift, Go, MATLAB, SAS"
      ],
      "metadata": {
        "id": "sX2O8g3-G8fi"
      }
    },
    {
      "cell_type": "markdown",
      "source": [
        "**Exercise 5 - Create a markdown cell to list data science libraries. (3 pts)**"
      ],
      "metadata": {
        "id": "4V5Gdl8dG8WO"
      }
    },
    {
      "cell_type": "markdown",
      "source": [
        "Here are some data science libraries: Pandas, NumPy, SciPy, Sci-Kit Learn, Matplotlib "
      ],
      "metadata": {
        "id": "K5dronfuG8MC"
      }
    },
    {
      "cell_type": "markdown",
      "source": [
        "**Exercise 6 - Create a markdown cell with a table of Data Science tools. (3 pts)**"
      ],
      "metadata": {
        "id": "Qyer854EG8C5"
      }
    },
    {
      "cell_type": "markdown",
      "source": [
        "|Data Science Tools Name | Description   |\n",
        "|------------------------|:--------|\n",
        "|Jupyter Notebook        |An open-source web application that enables interactive collaboration among data scientists and can be used to create, edit, and share code and information. |\n",
        "|NumPy| An open source Python library that's used widely in scientific computing, engineering, and data science and machine learning applications. |\n",
        "|Pandas|Another popular open source Python library, pandas typically is used for data analysis and manipulation.|\n",
        "|PyTorch|An open source framework used to build and train deep learning models based on neural networks|\n",
        "|R|An open source environment designed for statistical computing and graphics applications, as well as data manipulation, analysis and visualization.\n",
        "|SAS|An integrated software suite for statistical analysis, advanced analytics, BI and data management. "
      ],
      "metadata": {
        "id": "xZpolpo1G75o"
      }
    },
    {
      "cell_type": "markdown",
      "source": [
        "**Exercise 7 - Create a markdown cell introducing arithmetic expression examples. (1 pt)**"
      ],
      "metadata": {
        "id": "EiXpKRT_G7W8"
      }
    },
    {
      "cell_type": "markdown",
      "source": [
        "7 -- a number is an arithmetic expression.\\\n",
        "(3 + 8) -- the sum of numbers is an arithmetic expression.\\\n",
        "(9 - 2) -- the difference of two numbers is an arithmetic expression."
      ],
      "metadata": {
        "id": "SfGxYhqmLSsW"
      }
    },
    {
      "cell_type": "markdown",
      "source": [
        "**Exercise 8 - Create a code cell to multiply and add numbers. (2 pts)**"
      ],
      "metadata": {
        "id": "MRDd7aorLh3M"
      }
    },
    {
      "cell_type": "code",
      "source": [
        "a=2 \n",
        "b=3\n",
        "print(a+b)\n",
        "print(a*b)"
      ],
      "metadata": {
        "colab": {
          "base_uri": "https://localhost:8080/"
        },
        "id": "p0IKnx_bL14e",
        "outputId": "7d2aaeda-fa90-4f5a-d4d3-54d765b89422"
      },
      "execution_count": 3,
      "outputs": [
        {
          "output_type": "stream",
          "name": "stdout",
          "text": [
            "5\n",
            "6\n"
          ]
        }
      ]
    },
    {
      "cell_type": "markdown",
      "source": [
        "**Exercise 9 - Create a code cell to convert minutes to hours. (2 pts)**"
      ],
      "metadata": {
        "id": "idcRiGG5G6ZZ"
      }
    },
    {
      "cell_type": "code",
      "source": [
        "minutes = 120\n",
        "hours = minutes/60\n",
        "print(hours)"
      ],
      "metadata": {
        "colab": {
          "base_uri": "https://localhost:8080/"
        },
        "id": "O13S2LN3L7Gq",
        "outputId": "67a01bc3-0dfd-4fc6-a751-3cc9ae477b9c"
      },
      "execution_count": 5,
      "outputs": [
        {
          "output_type": "stream",
          "name": "stdout",
          "text": [
            "2.0\n"
          ]
        }
      ]
    },
    {
      "cell_type": "markdown",
      "source": [
        "**Exercise 10 -Insert a markdown cell to list Objectives. (3 pts)**"
      ],
      "metadata": {
        "id": "7veXFjXPL7d5"
      }
    },
    {
      "cell_type": "markdown",
      "source": [
        "The objectives of this assignment are to test my basic understanding of data science tools and practice my skills using the Jupyter Notebook. Some basic math operations are shown above to reflect what I've learned from the course."
      ],
      "metadata": {
        "id": "64D3x1oYM1bD"
      }
    },
    {
      "cell_type": "markdown",
      "source": [
        "**Exercise 11 - Create a markdown cell to indicate the Author’s name. (2 pts)**"
      ],
      "metadata": {
        "id": "V8GL5mOlNWiQ"
      }
    },
    {
      "cell_type": "markdown",
      "source": [
        "The author's name: Xinning Bai"
      ],
      "metadata": {
        "id": "Umt6XWDuNb-p"
      }
    }
  ]
}